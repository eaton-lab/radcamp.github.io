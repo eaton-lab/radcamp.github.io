{
 "cells": [
  {
   "cell_type": "markdown",
   "metadata": {
    "collapsed": true
   },
   "source": [
    "## Cookbook: *PCA* analyses\n",
    "\n",
    "As part of the `ipyrad.analysis` toolkit we've created convenience functions for easily performing exploratory principal component analysis (PCA) on your data. PCA is a very standard dimension-reduction technique that is often used to get a general sense of how samples are related to one another. PCA has the advantage over STRUCTURE type analyeses in that it is very fast. Similar to STRUCTURE, PCA can be used to produce simple and intuitive plots that can be used to guide downstream analysis. There are three very nice papers that talk about the application and interpretation of PCA in the context of population genetics:\n",
    "\n",
    "[Reich et al (2008) Principal component analysis of genetic data](https://www.nature.com/articles/ng0508-491)\n",
    "\n",
    "[Novembre & Stephens (2008) Interpreting principal component analyses of spatial population genetic variation](https://www.nature.com/articles/ng.139)\n",
    "\n",
    "[McVean (2009) A genealogical interpretation of principal components analysis](http://journals.plos.org/plosgenetics/article?id=10.1371/journal.pgen.1000686)\n",
    "\n"
   ]
  },
  {
   "cell_type": "markdown",
   "metadata": {},
   "source": [
    "### A note on Jupyter/IPython\n",
    "This is a Jupyter notebook, a reproducible and executable document. The code in this notebook is Python (2.7), and should be executed either in a jupyter-notebook, like this one, or in an IPython terminal. Execute each cell in order to reproduce our entire analysis. The example data set used in this analysis is from the [empirical example ipyrad tutorial](http://ipyrad.readthedocs.io/pedicularis_.html)."
   ]
  },
  {
   "cell_type": "markdown",
   "metadata": {},
   "source": [
    "### Required software\n",
    "You can easily install the required software for this notebook with a locally installed `conda` environment. Just run the commented code below in a terminal. If you are working on an HPC cluster you **do not need** administrator privileges to install the software in this way, since it is only installed locally."
   ]
  },
  {
   "cell_type": "code",
   "execution_count": 1,
   "metadata": {},
   "outputs": [],
   "source": [
    "## conda install ipyrad -c ipyrad\n",
    "## conda install -c conda-forge scikit-allel"
   ]
  },
  {
   "cell_type": "markdown",
   "metadata": {},
   "source": [
    "### Import Python libraries\n",
    "The call to `%matplotlib inline` here enables support for plotting directly inside the notebook."
   ]
  },
  {
   "cell_type": "code",
   "execution_count": 1,
   "metadata": {},
   "outputs": [],
   "source": [
    "%matplotlib inline\n",
    "import ipyrad\n",
    "import ipyrad.analysis as ipa      ## ipyrad analysis toolkit"
   ]
  },
  {
   "cell_type": "markdown",
   "metadata": {},
   "source": [
    "## Quick guide (tldr;)\n",
    "The following cell shows the quickest way to results. Further explanation of all of the features and options is provided further below. "
   ]
  },
  {
   "cell_type": "code",
   "execution_count": 2,
   "metadata": {},
   "outputs": [
    {
     "name": "stdout",
     "output_type": "stream",
     "text": [
      "loading Assembly: rad\n",
      "from saved path: /tmp/ipyrad-test/rad.json\n",
      "Using default cmap: Spectral\n"
     ]
    },
    {
     "data": {
      "text/plain": [
       "<matplotlib.axes._subplots.AxesSubplot at 0x7fb6fdf82050>"
      ]
     },
     "execution_count": 2,
     "metadata": {},
     "output_type": "execute_result"
    },
    {
     "data": {
      "image/png": "[encoded data removed]",
      "text/plain": [
       "<Figure size 432x360 with 1 Axes>"
      ]
     },
     "metadata": {},
     "output_type": "display_data"
    }
   ],
   "source": [
    "## Load your assembly\n",
    "data = ipyrad.load_json(\"/tmp/ipyrad-test/rad.json\")\n",
    "## Create they pca object\n",
    "pca = ipa.pca(data)\n",
    "## Bam!\n",
    "pca.plot()"
   ]
  },
  {
   "cell_type": "markdown",
   "metadata": {},
   "source": [
    "# Full guide\n",
    "In the most common use you'll want to plot the first two PCs, then inspect the output, remove any obvious outliers, and then redo the pca. It's often desirable to import a vcf file directly rather than to use the ipyrad assembly, so here we'll demonstrate this."
   ]
  },
  {
   "cell_type": "code",
   "execution_count": 3,
   "metadata": {},
   "outputs": [],
   "source": [
    "## Path to the input vcf, in this case it's just the vcf from our ipyrad pedicularis assembly\n",
    "vcffile = \"/home/isaac/ipyrad/test-data/pedicularis/ped_outfiles/ped.vcf\""
   ]
  },
  {
   "cell_type": "markdown",
   "metadata": {},
   "source": [
    "Here we can just load the vcf file directly into the pca analysis module. Then ask for the samples in `samples_vcforder`, which is the order in which they are written in the vcf."
   ]
  },
  {
   "cell_type": "code",
   "execution_count": 4,
   "metadata": {},
   "outputs": [
    {
     "name": "stdout",
     "output_type": "stream",
     "text": [
      "[u'29154_superba_SRR1754715' u'30556_thamno_SRR1754720'\n",
      " u'30686_cyathophylla_SRR1754730' u'32082_przewalskii_SRR1754729'\n",
      " u'33413_thamno_SRR1754728' u'33588_przewalskii_SRR1754727'\n",
      " u'35236_rex_SRR1754731' u'35855_rex_SRR1754726' u'38362_rex_SRR1754725'\n",
      " u'39618_rex_SRR1754723' u'40578_rex_SRR1754724'\n",
      " u'41478_cyathophylloides_SRR1754722' u'41954_cyathophylloides_SRR1754721']\n"
     ]
    }
   ],
   "source": [
    "pca = ipa.pca(vcffile)\n",
    "print(pca.samples_vcforder)"
   ]
  },
  {
   "cell_type": "markdown",
   "metadata": {},
   "source": [
    "Now construct the default plot, which shows all samples and PCs 1 and 2. By default all samples are assigned to one population, so everything will be the same color."
   ]
  },
  {
   "cell_type": "code",
   "execution_count": 5,
   "metadata": {},
   "outputs": [
    {
     "name": "stdout",
     "output_type": "stream",
     "text": [
      "Using default cmap: Spectral\n"
     ]
    },
    {
     "data": {
      "text/plain": [
       "<matplotlib.axes._subplots.AxesSubplot at 0x7fe0beb3a650>"
      ]
     },
     "execution_count": 5,
     "metadata": {},
     "output_type": "execute_result"
    },
    {
     "data": {
      "image/png": "[encoded data removed]",
      "text/plain": [
       "<Figure size 432x360 with 1 Axes>"
      ]
     },
     "metadata": {},
     "output_type": "display_data"
    }
   ],
   "source": [
    "pca.plot()"
   ]
  },
  {
   "cell_type": "markdown",
   "metadata": {},
   "source": [
    "## Population assignment for sample colors\n",
    "In the tl;dr example the assembly of our simulated data had included a `pop_assign_file` so the pca() was smart enough to find this and color samples accordingly. In some cases you might not have used a pops file, so it's also possible to specify population assignments in a dictionary. The format of the dictionary should have populations as keys and lists of samples as values. Sample names need to be identical to the names in the vcf file, which we can verify with the `samples_vcforder` property of the pca object."
   ]
  },
  {
   "cell_type": "code",
   "execution_count": 6,
   "metadata": {},
   "outputs": [],
   "source": [
    "pops_dict = {\n",
    "    \"superba\":[\"29154_superba_SRR1754715\"],\n",
    "    \"thamno\":[\"30556_thamno_SRR1754720\", \"33413_thamno_SRR1754728\"],\n",
    "    \"cyathophylla\":[\"30686_cyathophylla_SRR1754730\"],\n",
    "    \"przewalskii\":[\"32082_przewalskii_SRR1754729\", \"33588_przewalskii_SRR1754727\"],\n",
    "    \"rex\":[\"35236_rex_SRR1754731\", \"35855_rex_SRR1754726\", \"38362_rex_SRR1754725\",\\\n",
    "            \"39618_rex_SRR1754723\", \"40578_rex_SRR1754724\"],\n",
    "    \"cyathophylloides\":[\"41478_cyathophylloides_SRR1754722\", \"41954_cyathophylloides_SRR1754721\"]\n",
    "}"
   ]
  },
  {
   "cell_type": "code",
   "execution_count": 7,
   "metadata": {},
   "outputs": [
    {
     "name": "stdout",
     "output_type": "stream",
     "text": [
      "Using default cmap: Spectral\n"
     ]
    },
    {
     "data": {
      "text/plain": [
       "<matplotlib.axes._subplots.AxesSubplot at 0x7fe092fbbe50>"
      ]
     },
     "execution_count": 7,
     "metadata": {},
     "output_type": "execute_result"
    },
    {
     "data": {
      "image/png": "[encoded data removed]",
      "text/plain": [
       "<Figure size 432x360 with 1 Axes>"
      ]
     },
     "metadata": {},
     "output_type": "display_data"
    }
   ],
   "source": [
    "pca = ipa.pca(vcffile, pops_dict)\n",
    "pca.plot()"
   ]
  },
  {
   "cell_type": "markdown",
   "metadata": {},
   "source": [
    "This is just much nicer looking now, and it's also much more straightforward to interpret."
   ]
  },
  {
   "cell_type": "markdown",
   "metadata": {},
   "source": [
    "## Removing \"bad\" samples and replotting.\n",
    "In PC analysis, it's common for \"bad\" samples to dominate several of the first PCs, and thus \"pop out\" in a degenerate looking way. Bad samples of this kind can often be attributed to poor sequence quality or sample misidentifcation. Samples with lots of missing data tend to pop way out on their own, causing distortion in the signal in the PCs. Normally it's best to evaluate the quality of the sample, and if it can be seen to be of poor quality, to remove it and replot the PCA. The Pedicularis dataset is actually very nice, and clean, but for the sake of demonstration lets imagine the cyathophylloides samples are \"bad samples\".\n",
    "\n",
    "We can see that the cyathophylloides samples have particularly high values of PC2, so we can target them for removal in this way."
   ]
  },
  {
   "cell_type": "code",
   "execution_count": 13,
   "metadata": {},
   "outputs": [
    {
     "name": "stdout",
     "output_type": "stream",
     "text": [
      "[False False False False False False False False False False False  True\n",
      "  True]\n",
      "[u'41478_cyathophylloides_SRR1754722' u'41954_cyathophylloides_SRR1754721']\n"
     ]
    }
   ],
   "source": [
    "## pca.pcs is a property of the pca object that is populated after the plot() function is called. It contains\n",
    "## the first 10 PCs for each sample. We construct a 'mask' based on the value of PC2, which here is the '1' in\n",
    "## the first line of code (numpy arrays are 0-indexed and it's typical for PCs to be 1-indexed)\n",
    "mask = pca.pcs.values[:, 1] > 500\n",
    "print(mask)\n",
    "\n",
    "## You can see here that the mask is a list of booleans that is the same length as the number of samples.\n",
    "## We can use this list to print out the names of just the samples of interest\n",
    "print(pca.samples_vcforder[mask])"
   ]
  },
  {
   "cell_type": "code",
   "execution_count": 14,
   "metadata": {},
   "outputs": [
    {
     "name": "stdout",
     "output_type": "stream",
     "text": [
      "[u'29154_superba_SRR1754715' u'30556_thamno_SRR1754720'\n",
      " u'30686_cyathophylla_SRR1754730' u'32082_przewalskii_SRR1754729'\n",
      " u'33413_thamno_SRR1754728' u'33588_przewalskii_SRR1754727'\n",
      " u'35236_rex_SRR1754731' u'35855_rex_SRR1754726' u'38362_rex_SRR1754725'\n",
      " u'39618_rex_SRR1754723' u'40578_rex_SRR1754724']\n"
     ]
    }
   ],
   "source": [
    "## We can then use this list of \"bad\" samples in a call to pca.remove_samples\n",
    "## and then replot the new pca\n",
    "pca.remove_samples(pca.samples_vcforder[mask])\n",
    "\n",
    "## Lets prove that they're gone now\n",
    "print(pca.samples_vcforder)"
   ]
  },
  {
   "cell_type": "code",
   "execution_count": 15,
   "metadata": {},
   "outputs": [
    {
     "name": "stdout",
     "output_type": "stream",
     "text": [
      "Using default cmap: Spectral\n"
     ]
    },
    {
     "data": {
      "text/plain": [
       "<matplotlib.axes._subplots.AxesSubplot at 0x7fe0f8c25410>"
      ]
     },
     "execution_count": 15,
     "metadata": {},
     "output_type": "execute_result"
    },
    {
     "data": {
      "image/png": "[encoded data removed]",
      "text/plain": [
       "<Figure size 432x360 with 1 Axes>"
      ]
     },
     "metadata": {},
     "output_type": "display_data"
    }
   ],
   "source": [
    "## and do the plot\n",
    "pca.plot()"
   ]
  },
  {
   "cell_type": "markdown",
   "metadata": {},
   "source": [
    "## Inspecting PCs directly\n",
    "At any time after calling plot() you can inspect the PCs for all the samples using the `pca.pcs` property. The PC values are saved internally in a convenient pandas dataframe format."
   ]
  },
  {
   "cell_type": "code",
   "execution_count": 17,
   "metadata": {},
   "outputs": [
    {
     "data": {
      "text/html": [
       "<div>\n",
       "<style scoped>\n",
       "    .dataframe tbody tr th:only-of-type {\n",
       "        vertical-align: middle;\n",
       "    }\n",
       "\n",
       "    .dataframe tbody tr th {\n",
       "        vertical-align: top;\n",
       "    }\n",
       "\n",
       "    .dataframe thead th {\n",
       "        text-align: right;\n",
       "    }\n",
       "</style>\n",
       "<table border=\"1\" class=\"dataframe\">\n",
       "  <thead>\n",
       "    <tr style=\"text-align: right;\">\n",
       "      <th></th>\n",
       "      <th>PC1</th>\n",
       "      <th>PC2</th>\n",
       "      <th>PC3</th>\n",
       "      <th>PC4</th>\n",
       "      <th>PC5</th>\n",
       "      <th>PC6</th>\n",
       "      <th>PC7</th>\n",
       "      <th>PC8</th>\n",
       "      <th>PC9</th>\n",
       "      <th>PC10</th>\n",
       "    </tr>\n",
       "  </thead>\n",
       "  <tbody>\n",
       "    <tr>\n",
       "      <th>29154_superba_SRR1754715</th>\n",
       "      <td>-143.458</td>\n",
       "      <td>344.601</td>\n",
       "      <td>-9.146</td>\n",
       "      <td>654.063</td>\n",
       "      <td>-71.953</td>\n",
       "      <td>-7.616</td>\n",
       "      <td>-19.466</td>\n",
       "      <td>44.390</td>\n",
       "      <td>-52.568</td>\n",
       "      <td>-8.116</td>\n",
       "    </tr>\n",
       "    <tr>\n",
       "      <th>30556_thamno_SRR1754720</th>\n",
       "      <td>-194.318</td>\n",
       "      <td>-181.059</td>\n",
       "      <td>-348.673</td>\n",
       "      <td>-94.304</td>\n",
       "      <td>-212.550</td>\n",
       "      <td>-492.266</td>\n",
       "      <td>-199.647</td>\n",
       "      <td>54.872</td>\n",
       "      <td>-71.137</td>\n",
       "      <td>-5.081</td>\n",
       "    </tr>\n",
       "    <tr>\n",
       "      <th>30686_cyathophylla_SRR1754730</th>\n",
       "      <td>-171.720</td>\n",
       "      <td>783.009</td>\n",
       "      <td>21.897</td>\n",
       "      <td>-354.809</td>\n",
       "      <td>23.015</td>\n",
       "      <td>-0.905</td>\n",
       "      <td>4.389</td>\n",
       "      <td>15.448</td>\n",
       "      <td>-19.187</td>\n",
       "      <td>-3.718</td>\n",
       "    </tr>\n",
       "    <tr>\n",
       "      <th>32082_przewalskii_SRR1754729</th>\n",
       "      <td>693.254</td>\n",
       "      <td>-18.583</td>\n",
       "      <td>-4.085</td>\n",
       "      <td>35.981</td>\n",
       "      <td>527.664</td>\n",
       "      <td>-210.055</td>\n",
       "      <td>-10.588</td>\n",
       "      <td>19.116</td>\n",
       "      <td>-22.978</td>\n",
       "      <td>-3.683</td>\n",
       "    </tr>\n",
       "    <tr>\n",
       "      <th>33413_thamno_SRR1754728</th>\n",
       "      <td>-126.793</td>\n",
       "      <td>-59.102</td>\n",
       "      <td>-29.833</td>\n",
       "      <td>24.647</td>\n",
       "      <td>4.006</td>\n",
       "      <td>-17.379</td>\n",
       "      <td>8.998</td>\n",
       "      <td>-339.049</td>\n",
       "      <td>438.306</td>\n",
       "      <td>-32.892</td>\n",
       "    </tr>\n",
       "    <tr>\n",
       "      <th>33588_przewalskii_SRR1754727</th>\n",
       "      <td>881.139</td>\n",
       "      <td>-8.878</td>\n",
       "      <td>5.835</td>\n",
       "      <td>-53.687</td>\n",
       "      <td>-434.127</td>\n",
       "      <td>170.774</td>\n",
       "      <td>6.425</td>\n",
       "      <td>3.491</td>\n",
       "      <td>-3.660</td>\n",
       "      <td>-1.877</td>\n",
       "    </tr>\n",
       "    <tr>\n",
       "      <th>35236_rex_SRR1754731</th>\n",
       "      <td>-187.931</td>\n",
       "      <td>-165.702</td>\n",
       "      <td>-163.637</td>\n",
       "      <td>-47.395</td>\n",
       "      <td>148.425</td>\n",
       "      <td>430.936</td>\n",
       "      <td>-459.261</td>\n",
       "      <td>35.808</td>\n",
       "      <td>-54.179</td>\n",
       "      <td>-5.964</td>\n",
       "    </tr>\n",
       "    <tr>\n",
       "      <th>35855_rex_SRR1754726</th>\n",
       "      <td>-184.338</td>\n",
       "      <td>-161.701</td>\n",
       "      <td>-164.247</td>\n",
       "      <td>-36.742</td>\n",
       "      <td>41.453</td>\n",
       "      <td>125.039</td>\n",
       "      <td>357.653</td>\n",
       "      <td>-286.551</td>\n",
       "      <td>-318.039</td>\n",
       "      <td>-8.572</td>\n",
       "    </tr>\n",
       "    <tr>\n",
       "      <th>38362_rex_SRR1754725</th>\n",
       "      <td>-201.661</td>\n",
       "      <td>-205.271</td>\n",
       "      <td>502.125</td>\n",
       "      <td>-54.539</td>\n",
       "      <td>-41.762</td>\n",
       "      <td>-76.632</td>\n",
       "      <td>-30.824</td>\n",
       "      <td>58.575</td>\n",
       "      <td>-66.826</td>\n",
       "      <td>-260.359</td>\n",
       "    </tr>\n",
       "    <tr>\n",
       "      <th>39618_rex_SRR1754723</th>\n",
       "      <td>-175.793</td>\n",
       "      <td>-160.807</td>\n",
       "      <td>368.111</td>\n",
       "      <td>-31.844</td>\n",
       "      <td>-28.502</td>\n",
       "      <td>-56.008</td>\n",
       "      <td>-17.545</td>\n",
       "      <td>16.067</td>\n",
       "      <td>-16.588</td>\n",
       "      <td>337.616</td>\n",
       "    </tr>\n",
       "    <tr>\n",
       "      <th>40578_rex_SRR1754724</th>\n",
       "      <td>-188.110</td>\n",
       "      <td>-166.450</td>\n",
       "      <td>-178.318</td>\n",
       "      <td>-41.402</td>\n",
       "      <td>44.339</td>\n",
       "      <td>134.100</td>\n",
       "      <td>359.870</td>\n",
       "      <td>377.916</td>\n",
       "      <td>186.759</td>\n",
       "      <td>-7.397</td>\n",
       "    </tr>\n",
       "  </tbody>\n",
       "</table>\n",
       "</div>"
      ],
      "text/plain": [
       "                                   PC1      PC2      PC3      PC4      PC5  \\\n",
       "29154_superba_SRR1754715      -143.458  344.601   -9.146  654.063  -71.953   \n",
       "30556_thamno_SRR1754720       -194.318 -181.059 -348.673  -94.304 -212.550   \n",
       "30686_cyathophylla_SRR1754730 -171.720  783.009   21.897 -354.809   23.015   \n",
       "32082_przewalskii_SRR1754729   693.254  -18.583   -4.085   35.981  527.664   \n",
       "33413_thamno_SRR1754728       -126.793  -59.102  -29.833   24.647    4.006   \n",
       "33588_przewalskii_SRR1754727   881.139   -8.878    5.835  -53.687 -434.127   \n",
       "35236_rex_SRR1754731          -187.931 -165.702 -163.637  -47.395  148.425   \n",
       "35855_rex_SRR1754726          -184.338 -161.701 -164.247  -36.742   41.453   \n",
       "38362_rex_SRR1754725          -201.661 -205.271  502.125  -54.539  -41.762   \n",
       "39618_rex_SRR1754723          -175.793 -160.807  368.111  -31.844  -28.502   \n",
       "40578_rex_SRR1754724          -188.110 -166.450 -178.318  -41.402   44.339   \n",
       "\n",
       "                                   PC6      PC7      PC8      PC9     PC10  \n",
       "29154_superba_SRR1754715        -7.616  -19.466   44.390  -52.568   -8.116  \n",
       "30556_thamno_SRR1754720       -492.266 -199.647   54.872  -71.137   -5.081  \n",
       "30686_cyathophylla_SRR1754730   -0.905    4.389   15.448  -19.187   -3.718  \n",
       "32082_przewalskii_SRR1754729  -210.055  -10.588   19.116  -22.978   -3.683  \n",
       "33413_thamno_SRR1754728        -17.379    8.998 -339.049  438.306  -32.892  \n",
       "33588_przewalskii_SRR1754727   170.774    6.425    3.491   -3.660   -1.877  \n",
       "35236_rex_SRR1754731           430.936 -459.261   35.808  -54.179   -5.964  \n",
       "35855_rex_SRR1754726           125.039  357.653 -286.551 -318.039   -8.572  \n",
       "38362_rex_SRR1754725           -76.632  -30.824   58.575  -66.826 -260.359  \n",
       "39618_rex_SRR1754723           -56.008  -17.545   16.067  -16.588  337.616  \n",
       "40578_rex_SRR1754724           134.100  359.870  377.916  186.759   -7.397  "
      ]
     },
     "execution_count": 17,
     "metadata": {},
     "output_type": "execute_result"
    }
   ],
   "source": [
    "pca.pcs"
   ]
  },
  {
   "cell_type": "markdown",
   "metadata": {},
   "source": [
    "## Looking at PCs other than 1 & 2\n",
    "PCs 1 and 2 by definition explain the most variation in the data, but sometimes PCs further down the chain can also be useful and informative. The plot function makes it simple to ask for PCs directly."
   ]
  },
  {
   "cell_type": "code",
   "execution_count": 11,
   "metadata": {},
   "outputs": [
    {
     "name": "stdout",
     "output_type": "stream",
     "text": [
      "Using default cmap: Spectral\n"
     ]
    },
    {
     "data": {
      "text/plain": [
       "<matplotlib.axes._subplots.AxesSubplot at 0x7fa3d05fd190>"
      ]
     },
     "execution_count": 11,
     "metadata": {},
     "output_type": "execute_result"
    },
    {
     "data": {
      "image/png": "[encoded data removed]",
      "text/plain": [
       "<Figure size 432x360 with 1 Axes>"
      ]
     },
     "metadata": {},
     "output_type": "display_data"
    }
   ],
   "source": [
    "## Lets reload the full dataset so we have all the samples\n",
    "pca = ipa.pca(vcffile, pops_dict)\n",
    "pca.plot(pcs=[3,4])"
   ]
  },
  {
   "cell_type": "code",
   "execution_count": 12,
   "metadata": {},
   "outputs": [
    {
     "name": "stdout",
     "output_type": "stream",
     "text": [
      "Using default cmap: Spectral\n",
      "Using default cmap: Spectral\n"
     ]
    },
    {
     "data": {
      "text/plain": [
       "<matplotlib.axes._subplots.AxesSubplot at 0x7fa3d0a04290>"
      ]
     },
     "execution_count": 12,
     "metadata": {},
     "output_type": "execute_result"
    },
    {
     "data": {
      "image/png": "[encoded data removed]",
      "text/plain": [
       "<Figure size 864x360 with 2 Axes>"
      ]
     },
     "metadata": {},
     "output_type": "display_data"
    }
   ],
   "source": [
    "import matplotlib.pyplot as plt\n",
    "\n",
    "fig = plt.figure(figsize=(12, 5))\n",
    "ax1 = fig.add_subplot(1, 2, 1)\n",
    "ax2 = fig.add_subplot(1, 2, 2)\n",
    "\n",
    "pca.plot(ax=ax1, pcs=[1, 2])\n",
    "pca.plot(ax=ax2, pcs=[3, 4])"
   ]
  },
  {
   "cell_type": "markdown",
   "metadata": {},
   "source": [
    "It's nice to see PCs 1-4 here, but it's kind of stupid to plot the legend twice, so we can just turn off the legend on the first plot."
   ]
  },
  {
   "cell_type": "code",
   "execution_count": 13,
   "metadata": {},
   "outputs": [
    {
     "name": "stdout",
     "output_type": "stream",
     "text": [
      "Using default cmap: Spectral\n",
      "Using default cmap: Spectral\n"
     ]
    },
    {
     "data": {
      "text/plain": [
       "<matplotlib.axes._subplots.AxesSubplot at 0x7fa3d0a8db10>"
      ]
     },
     "execution_count": 13,
     "metadata": {},
     "output_type": "execute_result"
    },
    {
     "data": {
      "image/png": "[encoded data removed]",
      "text/plain": [
       "<Figure size 864x360 with 2 Axes>"
      ]
     },
     "metadata": {},
     "output_type": "display_data"
    }
   ],
   "source": [
    "fig = plt.figure(figsize=(12, 5))\n",
    "ax1 = fig.add_subplot(1, 2, 1)\n",
    "ax2 = fig.add_subplot(1, 2, 2)\n",
    "\n",
    "pca.plot(ax=ax1, pcs=[1, 2], legend=False)\n",
    "pca.plot(ax=ax2, pcs=[3, 4])"
   ]
  },
  {
   "cell_type": "markdown",
   "metadata": {},
   "source": [
    "## Controlling colors\n",
    "You might notice the default color scheme is unobtrusive, but perhaps not to your liking. There are two ways of modifying the color scheme, one simple and one more complicated, but which gives extremely fine grained control over colors.\n",
    "\n",
    "Colors for the more complicated method can be specified according to [python color conventions](https://matplotlib.org/users/colors.html). I find [this visual page of python color names useful](https://matplotlib.org/2.0.0/examples/color/named_colors.html)."
   ]
  },
  {
   "cell_type": "code",
   "execution_count": 14,
   "metadata": {},
   "outputs": [
    {
     "data": {
      "text/plain": [
       "<matplotlib.axes._subplots.AxesSubplot at 0x7fa3d099ac50>"
      ]
     },
     "execution_count": 14,
     "metadata": {},
     "output_type": "execute_result"
    },
    {
     "data": {
      "image/png": "[encoded data removed]",
      "text/plain": [
       "<Figure size 432x360 with 1 Axes>"
      ]
     },
     "metadata": {},
     "output_type": "display_data"
    }
   ],
   "source": [
    "## Here's the simple way, just pass in a matplotlib cmap, or even better, the name of a cmap\n",
    "pca.plot(cmap=\"jet\")"
   ]
  },
  {
   "cell_type": "code",
   "execution_count": 22,
   "metadata": {},
   "outputs": [
    {
     "data": {
      "text/plain": [
       "<matplotlib.axes._subplots.AxesSubplot at 0x7fa3d0646b50>"
      ]
     },
     "execution_count": 22,
     "metadata": {},
     "output_type": "execute_result"
    },
    {
     "data": {
      "image/png": "[encoded data removed]",
      "text/plain": [
       "<Figure size 432x360 with 1 Axes>"
      ]
     },
     "metadata": {},
     "output_type": "display_data"
    }
   ],
   "source": [
    "## Here's the harder way that gives you uber control. Pass in a dictionary mapping populations to colors.\n",
    "my_colors = {\n",
    "    \"rex\":\"aliceblue\",\n",
    "    \"thamno\":\"crimson\",\n",
    "    \"przewalskii\":\"deeppink\",\n",
    "    \"cyathophylloides\":\"fuchsia\",\n",
    "    \"cyathophylla\":\"goldenrod\",\n",
    "    \"superba\":\"black\"\n",
    "}\n",
    "pca.plot(cdict=my_colors)"
   ]
  },
  {
   "cell_type": "markdown",
   "metadata": {},
   "source": [
    "## Dealing with missing data\n",
    "RAD-seq datasets are often characterized by moderate to high levels of missing data. While there may be many thousands or tens of thousands of loci recovered overall, the number of loci that are recovered in all sequenced samples is often quite small. The distribution of depth of coverage per locus is a complicated function of the size of the genome of the focal organism, the restriction enzyme(s) used, the size selection tolerances, and the sequencing effort. \n",
    "\n",
    "Both model-based (STRUCTURE and the like) and model-free (PCA/sNMF/etc) genetic \"clustering\" methods are sensitive to missing data. Light to moderate missing data that is distributed randomly among samples is often not enough to seriously impact the results. These are, after all, only exploratory methods. However, if missing data is biased in some way then it can distort the number of inferred populations and/or the relationships among these. For example, if several unrelated samples recover relatively few loci, for whatever reason (mistakes during library prep, failed sequencing, etc), clustering methods may erroniously identify this as true \"similarity\" with respect to the rest of the samples, and create spurious clusters.\n",
    "\n",
    "In the end, all these methods must do something with sites that are uncalled in some samples. Some methods adopt a strategy of silently asigning missing sites the \"Reference\" base. Others, assign missing sites the average base. \n",
    "\n",
    "There are several ways of dealing with this:\n",
    "\n",
    " * One method is to simply __eliminate all loci with missing data__. This can be ok for SNP chip type data, where missingness is very sparse. For RAD-Seq type data, eliminating data for all missing loci often results in a drastic reduction in the size of the final data matrix. Assemblies with thousands of loci can be pared down to only tens or hundreds of loci.\n",
    " * Another method is to __impute missing data__. This is rarely done for RAD-Seq type data, comparatively speaking. Or at least it is rarely done intentionally. \n",
    " * A third method is to __downsample using a hypergeometric projection__. This is the strategy adopted by dadi in the construction of the SFS (which abhors missing data). It's a little complicated though, so we'll only look at the first two strategies."
   ]
  },
  {
   "cell_type": "markdown",
   "metadata": {},
   "source": [
    "## Inspect the amount of missing data under various conditions\n",
    "The pca module has various functions for inspecting missing data. The simples is the `get_missing_per_sample()` function, which does exactly what it says. It displays the number of ungenotyped snps per sample in the final data matrix. Here you can see that since we are using simulated data the amount of missing data is very low, but in real data these numbers will be considerable. "
   ]
  },
  {
   "cell_type": "code",
   "execution_count": 4,
   "metadata": {},
   "outputs": [
    {
     "data": {
      "text/plain": [
       "1A_0    2\n",
       "1B_0    2\n",
       "1C_0    1\n",
       "1D_0    4\n",
       "2E_0    0\n",
       "2F_0    0\n",
       "2G_0    0\n",
       "2H_0    1\n",
       "3I_0    2\n",
       "3J_0    2\n",
       "3K_0    1\n",
       "3L_0    2\n",
       "dtype: int64"
      ]
     },
     "execution_count": 4,
     "metadata": {},
     "output_type": "execute_result"
    }
   ],
   "source": [
    "pca.get_missing_per_sample()"
   ]
  },
  {
   "cell_type": "markdown",
   "metadata": {},
   "source": [
    "This is useful, but it doesn't give us a clear direction for how to go about dealing with the missingness. One way to reduce missing data is to reduce the tolerance for samples ungenotyped at a snp. The other way to reduce missing data is to remove samples with very poor sequencing. To this end, the `.missingness()` function will show a table of number of retained snps for various of these conditions."
   ]
  },
  {
   "cell_type": "code",
   "execution_count": 3,
   "metadata": {},
   "outputs": [
    {
     "data": {
      "text/html": [
       "<div>\n",
       "<style scoped>\n",
       "    .dataframe tbody tr th:only-of-type {\n",
       "        vertical-align: middle;\n",
       "    }\n",
       "\n",
       "    .dataframe tbody tr th {\n",
       "        vertical-align: top;\n",
       "    }\n",
       "\n",
       "    .dataframe thead th {\n",
       "        text-align: right;\n",
       "    }\n",
       "</style>\n",
       "<table border=\"1\" class=\"dataframe\">\n",
       "  <thead>\n",
       "    <tr style=\"text-align: right;\">\n",
       "      <th></th>\n",
       "      <th>Full</th>\n",
       "      <th>2E_0</th>\n",
       "      <th>2F_0</th>\n",
       "      <th>2G_0</th>\n",
       "      <th>1C_0</th>\n",
       "      <th>2H_0</th>\n",
       "    </tr>\n",
       "  </thead>\n",
       "  <tbody>\n",
       "    <tr>\n",
       "      <th>0</th>\n",
       "      <td>2547</td>\n",
       "      <td>2452</td>\n",
       "      <td>2313</td>\n",
       "      <td>2093</td>\n",
       "      <td>1958</td>\n",
       "      <td>1640</td>\n",
       "    </tr>\n",
       "    <tr>\n",
       "      <th>1</th>\n",
       "      <td>2553</td>\n",
       "      <td>2458</td>\n",
       "      <td>2319</td>\n",
       "      <td>2098</td>\n",
       "      <td>1963</td>\n",
       "      <td>1643</td>\n",
       "    </tr>\n",
       "    <tr>\n",
       "      <th>3</th>\n",
       "      <td>2554</td>\n",
       "      <td>2459</td>\n",
       "      <td>2320</td>\n",
       "      <td>2099</td>\n",
       "      <td>1963</td>\n",
       "      <td>1643</td>\n",
       "    </tr>\n",
       "    <tr>\n",
       "      <th>8</th>\n",
       "      <td>2555</td>\n",
       "      <td>2460</td>\n",
       "      <td>2321</td>\n",
       "      <td>2099</td>\n",
       "      <td>1963</td>\n",
       "      <td>1643</td>\n",
       "    </tr>\n",
       "  </tbody>\n",
       "</table>\n",
       "</div>"
      ],
      "text/plain": [
       "   Full  2E_0  2F_0  2G_0  1C_0  2H_0\n",
       "0  2547  2452  2313  2093  1958  1640\n",
       "1  2553  2458  2319  2098  1963  1643\n",
       "3  2554  2459  2320  2099  1963  1643\n",
       "8  2555  2460  2321  2099  1963  1643"
      ]
     },
     "execution_count": 3,
     "metadata": {},
     "output_type": "execute_result"
    }
   ],
   "source": [
    "pca.missingness()"
   ]
  },
  {
   "cell_type": "markdown",
   "metadata": {},
   "source": [
    "Here the columns indicate progressive removal of the samples with the fewest number of snps. So \"Full\" indicates retention of all samples. \"2E_0\" shows # snps after removing this sample (as it has the most missing data). \"2F_0\" shows the # snps after removing both this sample & \"2E_0\". And so on. You can see as we move from left to right the total number of snps goes down, but also so does the amount of missingness.\n",
    "\n",
    "Rows indicate thresholds for number of allowed missing samples per snp. The \"0\" row shows the condition of allowing 0 missing samples, so this is the complete data matrix. The \"1\" row shows # of snps retained if you allow 1 missing sample. And so on."
   ]
  },
  {
   "cell_type": "markdown",
   "metadata": {},
   "source": [
    "### Filter by missingness threshold - trim_missing()\n",
    "\n",
    "The `trim_missing()` function takes one argument, namely the maximum number of missing samples per snp. Then it removes all sites that don't pass this threshold."
   ]
  },
  {
   "cell_type": "code",
   "execution_count": 7,
   "metadata": {},
   "outputs": [
    {
     "data": {
      "text/html": [
       "<div>\n",
       "<style scoped>\n",
       "    .dataframe tbody tr th:only-of-type {\n",
       "        vertical-align: middle;\n",
       "    }\n",
       "\n",
       "    .dataframe tbody tr th {\n",
       "        vertical-align: top;\n",
       "    }\n",
       "\n",
       "    .dataframe thead th {\n",
       "        text-align: right;\n",
       "    }\n",
       "</style>\n",
       "<table border=\"1\" class=\"dataframe\">\n",
       "  <thead>\n",
       "    <tr style=\"text-align: right;\">\n",
       "      <th></th>\n",
       "      <th>Full</th>\n",
       "      <th>1A_0</th>\n",
       "      <th>1B_0</th>\n",
       "      <th>1C_0</th>\n",
       "      <th>2E_0</th>\n",
       "      <th>2F_0</th>\n",
       "    </tr>\n",
       "  </thead>\n",
       "  <tbody>\n",
       "    <tr>\n",
       "      <th>0</th>\n",
       "      <td>2547</td>\n",
       "      <td>2456</td>\n",
       "      <td>2282</td>\n",
       "      <td>2079</td>\n",
       "      <td>1985</td>\n",
       "      <td>1845</td>\n",
       "    </tr>\n",
       "    <tr>\n",
       "      <th>1</th>\n",
       "      <td>2553</td>\n",
       "      <td>2462</td>\n",
       "      <td>2286</td>\n",
       "      <td>2083</td>\n",
       "      <td>1989</td>\n",
       "      <td>1849</td>\n",
       "    </tr>\n",
       "  </tbody>\n",
       "</table>\n",
       "</div>"
      ],
      "text/plain": [
       "   Full  1A_0  1B_0  1C_0  2E_0  2F_0\n",
       "0  2547  2456  2282  2079  1985  1845\n",
       "1  2553  2462  2286  2083  1989  1849"
      ]
     },
     "execution_count": 7,
     "metadata": {},
     "output_type": "execute_result"
    }
   ],
   "source": [
    "pca.trim_missing(1)\n",
    "pca.missingness()"
   ]
  },
  {
   "cell_type": "markdown",
   "metadata": {},
   "source": [
    "You can see that this also has the effect of reducing the amount of missingness per sample."
   ]
  },
  {
   "cell_type": "code",
   "execution_count": 8,
   "metadata": {},
   "outputs": [
    {
     "data": {
      "text/plain": [
       "1A_0    0\n",
       "1B_0    0\n",
       "1C_0    0\n",
       "1D_0    2\n",
       "2E_0    0\n",
       "2F_0    0\n",
       "2G_0    0\n",
       "2H_0    1\n",
       "3I_0    1\n",
       "3J_0    1\n",
       "3K_0    0\n",
       "3L_0    1\n",
       "dtype: int64"
      ]
     },
     "execution_count": 8,
     "metadata": {},
     "output_type": "execute_result"
    }
   ],
   "source": [
    "pca.get_missing_per_sample()"
   ]
  },
  {
   "cell_type": "markdown",
   "metadata": {},
   "source": [
    "__NB:__ This operation is _destructive_ of the data inside the pca object. It doesn't do anything to your data on file, though, so if you want to rewind you can just reload your vcf file."
   ]
  },
  {
   "cell_type": "code",
   "execution_count": 9,
   "metadata": {},
   "outputs": [
    {
     "data": {
      "text/html": [
       "<div>\n",
       "<style scoped>\n",
       "    .dataframe tbody tr th:only-of-type {\n",
       "        vertical-align: middle;\n",
       "    }\n",
       "\n",
       "    .dataframe tbody tr th {\n",
       "        vertical-align: top;\n",
       "    }\n",
       "\n",
       "    .dataframe thead th {\n",
       "        text-align: right;\n",
       "    }\n",
       "</style>\n",
       "<table border=\"1\" class=\"dataframe\">\n",
       "  <thead>\n",
       "    <tr style=\"text-align: right;\">\n",
       "      <th></th>\n",
       "      <th>Full</th>\n",
       "      <th>2E_0</th>\n",
       "      <th>2F_0</th>\n",
       "      <th>2G_0</th>\n",
       "      <th>1C_0</th>\n",
       "      <th>2H_0</th>\n",
       "    </tr>\n",
       "  </thead>\n",
       "  <tbody>\n",
       "    <tr>\n",
       "      <th>0</th>\n",
       "      <td>2547</td>\n",
       "      <td>2452</td>\n",
       "      <td>2313</td>\n",
       "      <td>2093</td>\n",
       "      <td>1958</td>\n",
       "      <td>1640</td>\n",
       "    </tr>\n",
       "    <tr>\n",
       "      <th>1</th>\n",
       "      <td>2553</td>\n",
       "      <td>2458</td>\n",
       "      <td>2319</td>\n",
       "      <td>2098</td>\n",
       "      <td>1963</td>\n",
       "      <td>1643</td>\n",
       "    </tr>\n",
       "    <tr>\n",
       "      <th>3</th>\n",
       "      <td>2554</td>\n",
       "      <td>2459</td>\n",
       "      <td>2320</td>\n",
       "      <td>2099</td>\n",
       "      <td>1963</td>\n",
       "      <td>1643</td>\n",
       "    </tr>\n",
       "    <tr>\n",
       "      <th>8</th>\n",
       "      <td>2555</td>\n",
       "      <td>2460</td>\n",
       "      <td>2321</td>\n",
       "      <td>2099</td>\n",
       "      <td>1963</td>\n",
       "      <td>1643</td>\n",
       "    </tr>\n",
       "  </tbody>\n",
       "</table>\n",
       "</div>"
      ],
      "text/plain": [
       "   Full  2E_0  2F_0  2G_0  1C_0  2H_0\n",
       "0  2547  2452  2313  2093  1958  1640\n",
       "1  2553  2458  2319  2098  1963  1643\n",
       "3  2554  2459  2320  2099  1963  1643\n",
       "8  2555  2460  2321  2099  1963  1643"
      ]
     },
     "execution_count": 9,
     "metadata": {},
     "output_type": "execute_result"
    }
   ],
   "source": [
    "## Voila. Back to the full dataset.\n",
    "pca = ipa.pca(data)\n",
    "pca.missingness()"
   ]
  },
  {
   "cell_type": "markdown",
   "metadata": {},
   "source": [
    "### Imputing missing genotypes\n",
    "McVean (2008) recommends filling missing sites with the average genotype of the population, so that's what we're doing here. For each population, we determine the average genotype at any site with missing data, and then fill in the missing sites with this average. In this case, if the average \"genotype\" is \"./.\", then this is what gets filled in, so essentially any site missing more than 50% of the data isn't getting imputed. If two genotypes occur with equal frequency then the average is just picked as the first one."
   ]
  },
  {
   "cell_type": "code",
   "execution_count": 12,
   "metadata": {},
   "outputs": [
    {
     "data": {
      "text/html": [
       "<div>\n",
       "<style scoped>\n",
       "    .dataframe tbody tr th:only-of-type {\n",
       "        vertical-align: middle;\n",
       "    }\n",
       "\n",
       "    .dataframe tbody tr th {\n",
       "        vertical-align: top;\n",
       "    }\n",
       "\n",
       "    .dataframe thead th {\n",
       "        text-align: right;\n",
       "    }\n",
       "</style>\n",
       "<table border=\"1\" class=\"dataframe\">\n",
       "  <thead>\n",
       "    <tr style=\"text-align: right;\">\n",
       "      <th></th>\n",
       "      <th>Full</th>\n",
       "      <th>2E_0</th>\n",
       "      <th>2F_0</th>\n",
       "      <th>2G_0</th>\n",
       "      <th>2H_0</th>\n",
       "      <th>1C_0</th>\n",
       "    </tr>\n",
       "  </thead>\n",
       "  <tbody>\n",
       "    <tr>\n",
       "      <th>0</th>\n",
       "      <td>2553</td>\n",
       "      <td>2458</td>\n",
       "      <td>2319</td>\n",
       "      <td>2099</td>\n",
       "      <td>1779</td>\n",
       "      <td>1643</td>\n",
       "    </tr>\n",
       "    <tr>\n",
       "      <th>3</th>\n",
       "      <td>2554</td>\n",
       "      <td>2459</td>\n",
       "      <td>2320</td>\n",
       "      <td>2100</td>\n",
       "      <td>1780</td>\n",
       "      <td>1643</td>\n",
       "    </tr>\n",
       "    <tr>\n",
       "      <th>8</th>\n",
       "      <td>2555</td>\n",
       "      <td>2460</td>\n",
       "      <td>2321</td>\n",
       "      <td>2100</td>\n",
       "      <td>1780</td>\n",
       "      <td>1643</td>\n",
       "    </tr>\n",
       "  </tbody>\n",
       "</table>\n",
       "</div>"
      ],
      "text/plain": [
       "   Full  2E_0  2F_0  2G_0  2H_0  1C_0\n",
       "0  2553  2458  2319  2099  1779  1643\n",
       "3  2554  2459  2320  2100  1780  1643\n",
       "8  2555  2460  2321  2100  1780  1643"
      ]
     },
     "execution_count": 12,
     "metadata": {},
     "output_type": "execute_result"
    }
   ],
   "source": [
    "pca.fill_missing()\n",
    "pca.missingness()"
   ]
  },
  {
   "cell_type": "markdown",
   "metadata": {},
   "source": [
    "In comparing this missingness matrix with the previous one, you can see that indeed some snps are being recovered (though not many, again because of the clean simulated data). \n",
    "\n",
    "You can also examine the effect of imputation on the amount of missingness per sample. You can see it doesn't have as drastic of an effect as trimming, but it does have some effect, plus you are retaining more data!"
   ]
  },
  {
   "cell_type": "code",
   "execution_count": 11,
   "metadata": {},
   "outputs": [
    {
     "data": {
      "text/plain": [
       "1A_0    2\n",
       "1B_0    2\n",
       "1C_0    1\n",
       "1D_0    2\n",
       "2E_0    0\n",
       "2F_0    0\n",
       "2G_0    0\n",
       "2H_0    0\n",
       "3I_0    1\n",
       "3J_0    1\n",
       "3K_0    1\n",
       "3L_0    1\n",
       "dtype: int64"
      ]
     },
     "execution_count": 11,
     "metadata": {},
     "output_type": "execute_result"
    }
   ],
   "source": [
    "pca.get_missing_per_sample()"
   ]
  },
  {
   "cell_type": "markdown",
   "metadata": {},
   "source": [
    "## Dealing with unequal sampling\n",
    "Unequal sampling of populations can potentially distort PC analysis (see for example [Bradburd et al 2016](http://journals.plos.org/plosgenetics/article?id=10.1371/journal.pgen.1005703)). Model based ancestry analysis suffers a similar limitation [Puechmaille 2016](https://onlinelibrary.wiley.com/doi/full/10.1111/1755-0998.12512)). McVean (2008) recommends downsampling larger populations, but nobody likes throwing away data. [Weighted PCA](https://www.asas.org/docs/default-source/wcgalp-proceedings-oral/210_paper_8713_manuscript_220_0.pdf?sfvrsn=2) was proposed, but has not been adopted by the community. "
   ]
  },
  {
   "cell_type": "code",
   "execution_count": 18,
   "metadata": {},
   "outputs": [
    {
     "data": {
      "text/plain": [
       "{'cyathophylla': 1,\n",
       " 'cyathophylloides': 2,\n",
       " 'przewalskii': 2,\n",
       " 'rex': 5,\n",
       " 'superba': 1,\n",
       " 'thamno': 2}"
      ]
     },
     "execution_count": 18,
     "metadata": {},
     "output_type": "execute_result"
    }
   ],
   "source": [
    "{x:len(y) for x, y in pca.pops.items()}"
   ]
  },
  {
   "cell_type": "code",
   "execution_count": null,
   "metadata": {},
   "outputs": [],
   "source": []
  },
  {
   "cell_type": "markdown",
   "metadata": {},
   "source": [
    "## Dealing with linked snps"
   ]
  },
  {
   "cell_type": "code",
   "execution_count": null,
   "metadata": {},
   "outputs": [],
   "source": [
    "\n",
    "prettier_labels = {\n",
    "    \n",
    "    \"32082_przewalskii\":\"przewalskii\", \n",
    "    \"33588_przewalskii\":\"przewalskii\",\n",
    "    \"41478_cyathophylloides\":\"cyathophylloides\", \n",
    "    \"41954_cyathophylloides\":\"cyathophylloides\", \n",
    "    \"29154_superba\":\"superba\",\n",
    "    \"30686_cyathophylla\":\"cyathophylla\", \n",
    "    \"33413_thamno\":\"thamno\", \n",
    "    \"30556_thamno\":\"thamno\", \n",
    "    \"35236_rex\":\"rex\", \n",
    "    \"40578_rex\":\"rex\", \n",
    "    \"35855_rex\":\"rex\",\n",
    "    \"39618_rex\":\"rex\", \n",
    "    \"38362_rex\":\"rex\"\n",
    "}"
   ]
  },
  {
   "cell_type": "markdown",
   "metadata": {},
   "source": [
    "### Copying this notebook to your computer/cluster\n",
    "You can easily copy this notebook and then just replace my file names with your filenames to run your analysis. Just click on the [Download Notebook] link at the top of this page. Then run `jupyter-notebook` from a terminal and open this notebook from the dashboard."
   ]
  }
 ],
 "metadata": {
  "celltoolbar": "Raw Cell Format",
  "kernelspec": {
   "display_name": "Python 2",
   "language": "python",
   "name": "python2"
  },
  "language_info": {
   "codemirror_mode": {
    "name": "ipython",
    "version": 2
   },
   "file_extension": ".py",
   "mimetype": "text/x-python",
   "name": "python",
   "nbconvert_exporter": "python",
   "pygments_lexer": "ipython2",
   "version": "2.7.15"
  }
 },
 "nbformat": 4,
 "nbformat_minor": 1
}
